{
 "cells": [
  {
   "cell_type": "code",
   "execution_count": 1,
   "metadata": {},
   "outputs": [],
   "source": [
    "import cv2\n",
    "import json\n",
    "from matplotlib import pyplot as plt\n",
    "import numpy as np\n",
    "import os\n",
    "import random\n",
    "import time\n",
    "\n",
    "# import a lot of things from keras:\n",
    "# sequential model\n",
    "from keras.models import Sequential\n",
    "\n",
    "# layers\n",
    "from keras.layers import Input, Dense, Dropout, Flatten, Conv2D, MaxPooling2D, RandomFlip, RandomRotation, RandomContrast, RandomBrightness\n",
    "\n",
    "# loss function\n",
    "from keras.metrics import categorical_crossentropy\n",
    "\n",
    "# callback functions\n",
    "from keras.callbacks import ReduceLROnPlateau, EarlyStopping\n",
    "\n",
    "# convert data to categorial vector representation\n",
    "from keras.utils import to_categorical\n",
    "\n",
    "# nice progress bar for loading data\n",
    "from tqdm.notebook import tqdm\n",
    "\n",
    "# helper function for train/test split\n",
    "from sklearn.model_selection import train_test_split\n",
    "\n",
    "# import confusion matrix helper function\n",
    "from sklearn.metrics import confusion_matrix, ConfusionMatrixDisplay\n",
    "\n",
    "# import pre-trained model\n",
    "from keras.applications.vgg16 import VGG16\n",
    "\n",
    "# include only those gestures\n",
    "CONDITIONS = ['like', 'dislike', 'stop', 'peace', 'rock']\n",
    "\n",
    "# image size\n",
    "IMG_SIZE = 64\n",
    "SIZE = (IMG_SIZE, IMG_SIZE)\n",
    "\n",
    "# number of color channels we want to use\n",
    "# set to 1 to convert to grayscale\n",
    "# set to 3 to use color images\n",
    "COLOR_CHANNELS = 3"
   ]
  },
  {
   "cell_type": "code",
   "execution_count": 2,
   "metadata": {},
   "outputs": [],
   "source": [
    "annotations = dict()\n",
    "\n",
    "for condition in CONDITIONS:\n",
    "    with open(f'annot-mueller.json') as f:\n",
    "        annotations = json.load(f)"
   ]
  },
  {
   "cell_type": "code",
   "execution_count": 3,
   "metadata": {},
   "outputs": [],
   "source": [
    "def preprocess_image(img):\n",
    "    if COLOR_CHANNELS == 1:\n",
    "        img = cv2.cvtColor(img, cv2.COLOR_BGR2GRAY)\n",
    "    img_resized = cv2.resize(img, SIZE)\n",
    "    return img_resized"
   ]
  },
  {
   "cell_type": "code",
   "execution_count": 4,
   "metadata": {},
   "outputs": [
    {
     "data": {
      "application/vnd.jupyter.widget-view+json": {
       "model_id": "e9dd1c447a964faab97c212b47f2b861",
       "version_major": 2,
       "version_minor": 0
      },
      "text/plain": [
       "  0%|          | 0/3 [00:00<?, ?it/s]"
      ]
     },
     "metadata": {},
     "output_type": "display_data"
    },
    {
     "data": {
      "application/vnd.jupyter.widget-view+json": {
       "model_id": "cd9873e065204636a2d659e44ec0d604",
       "version_major": 2,
       "version_minor": 0
      },
      "text/plain": [
       "  0%|          | 0/3 [00:00<?, ?it/s]"
      ]
     },
     "metadata": {},
     "output_type": "display_data"
    },
    {
     "data": {
      "application/vnd.jupyter.widget-view+json": {
       "model_id": "22f80566ce494ccc8868727fd4565f8a",
       "version_major": 2,
       "version_minor": 0
      },
      "text/plain": [
       "  0%|          | 0/3 [00:00<?, ?it/s]"
      ]
     },
     "metadata": {},
     "output_type": "display_data"
    },
    {
     "data": {
      "application/vnd.jupyter.widget-view+json": {
       "model_id": "6439e18a503f4724ac854fcb75223b06",
       "version_major": 2,
       "version_minor": 0
      },
      "text/plain": [
       "  0%|          | 0/3 [00:00<?, ?it/s]"
      ]
     },
     "metadata": {},
     "output_type": "display_data"
    },
    {
     "data": {
      "application/vnd.jupyter.widget-view+json": {
       "model_id": "f0c1b6c83a35461890e93471b72b3107",
       "version_major": 2,
       "version_minor": 0
      },
      "text/plain": [
       "  0%|          | 0/3 [00:00<?, ?it/s]"
      ]
     },
     "metadata": {},
     "output_type": "display_data"
    }
   ],
   "source": [
    "images = [] # stores actual image data\n",
    "labels = [] # stores labels (as integer - because this is what our network needs)\n",
    "label_names = [] # maps label ints to their actual categories so we can understand predictions later\n",
    "\n",
    "for condition in CONDITIONS:\n",
    "    for filename in tqdm(os.listdir(condition)):\n",
    "        # extract unique ID from file name\n",
    "        UID = filename.split('.')[0]\n",
    "        img = cv2.imread(f'{condition}/{filename}')\n",
    "            \n",
    "        # get annotation from the dict we loaded earlier\n",
    "        try:\n",
    "            annotation = annotations[UID]\n",
    "        except Exception as e:\n",
    "            print(e)\n",
    "            continue\n",
    "            \n",
    "        # iterate over all hands annotated in the image\n",
    "        for i, bbox in enumerate(annotation['bboxes']):\n",
    "            # annotated bounding boxes are in the range from 0 to 1\n",
    "            # therefore we have to scale them to the image size\n",
    "            x1 = int(bbox[0] * img.shape[1])\n",
    "            y1 = int(bbox[1] * img.shape[0])\n",
    "            w = int(bbox[2] * img.shape[1])\n",
    "            h = int(bbox[3] * img.shape[0])\n",
    "            x2 = x1 + w\n",
    "            y2 = y1 + h\n",
    "                \n",
    "            # crop image to the bounding box and apply pre-processing\n",
    "            crop = img[y1:y2, x1:x2]\n",
    "            preprocessed = preprocess_image(crop)\n",
    "                \n",
    "            # get the annotated hand's label\n",
    "            # if we have not seen this label yet, add it to the list of labels\n",
    "            label = annotation['labels'][i]\n",
    "            if label not in label_names:\n",
    "                label_names.append(label)\n",
    "                \n",
    "            label_index = label_names.index(label)\n",
    "                \n",
    "            images.append(preprocessed)\n",
    "            labels.append(label_index)"
   ]
  },
  {
   "cell_type": "code",
   "execution_count": 5,
   "metadata": {},
   "outputs": [
    {
     "data": {
      "text/plain": [
       "<matplotlib.image.AxesImage at 0x132f3a768d0>"
      ]
     },
     "execution_count": 5,
     "metadata": {},
     "output_type": "execute_result"
    },
    {
     "data": {
      "image/png": "[encoded data removed]",
      "text/plain": [
       "<Figure size 640x480 with 1 Axes>"
      ]
     },
     "metadata": {},
     "output_type": "display_data"
    }
   ],
   "source": [
    "plt.imshow(random.sample(images, 1)[0])"
   ]
  },
  {
   "cell_type": "code",
   "execution_count": 6,
   "metadata": {},
   "outputs": [
    {
     "data": {
      "text/plain": [
       "['like', 'no_gesture', 'dislike', 'stop', 'peace', 'rock']"
      ]
     },
     "execution_count": 6,
     "metadata": {},
     "output_type": "execute_result"
    }
   ],
   "source": [
    "# no_gesture is not included in label_names and was always at pos 2 in label_names\n",
    "label_names.insert(1, \"no_gesture\")\n",
    "label_names"
   ]
  },
  {
   "cell_type": "code",
   "execution_count": 7,
   "metadata": {},
   "outputs": [
    {
     "data": {
      "text/plain": [
       "array([[[[0.07843138, 0.17254902, 0.3647059 ],\n",
       "         [0.08627451, 0.16078432, 0.3372549 ],\n",
       "         [0.08235294, 0.14509805, 0.3137255 ],\n",
       "         ...,\n",
       "         [0.36862746, 0.42352942, 0.49803922],\n",
       "         [0.32941177, 0.38431373, 0.45490196],\n",
       "         [0.22352941, 0.3019608 , 0.41960785]],\n",
       "\n",
       "        [[0.07843138, 0.16862746, 0.3529412 ],\n",
       "         [0.08627451, 0.16078432, 0.3372549 ],\n",
       "         [0.07843138, 0.14509805, 0.30980393],\n",
       "         ...,\n",
       "         [0.3647059 , 0.41568628, 0.4862745 ],\n",
       "         [0.34117648, 0.3882353 , 0.45490196],\n",
       "         [0.2509804 , 0.31764707, 0.4392157 ]],\n",
       "\n",
       "        [[0.07450981, 0.16470589, 0.34117648],\n",
       "         [0.09803922, 0.16470589, 0.33333334],\n",
       "         [0.07058824, 0.14117648, 0.3019608 ],\n",
       "         ...,\n",
       "         [0.38039216, 0.41960785, 0.49803922],\n",
       "         [0.3529412 , 0.38431373, 0.4509804 ],\n",
       "         [0.24705882, 0.30980393, 0.41960785]],\n",
       "\n",
       "        ...,\n",
       "\n",
       "        [[0.4       , 0.4       , 0.49411765],\n",
       "         [0.37254903, 0.37254903, 0.46666667],\n",
       "         [0.35686275, 0.35686275, 0.4509804 ],\n",
       "         ...,\n",
       "         [0.9411765 , 0.8156863 , 0.7411765 ],\n",
       "         [0.96862745, 0.84313726, 0.76862746],\n",
       "         [0.972549  , 0.84705883, 0.77254903]],\n",
       "\n",
       "        [[0.4       , 0.40392157, 0.4862745 ],\n",
       "         [0.36862746, 0.36862746, 0.4627451 ],\n",
       "         [0.34901962, 0.34901962, 0.44313726],\n",
       "         ...,\n",
       "         [0.9411765 , 0.8156863 , 0.7411765 ],\n",
       "         [0.9647059 , 0.8392157 , 0.7647059 ],\n",
       "         [0.972549  , 0.84705883, 0.77254903]],\n",
       "\n",
       "        [[0.36862746, 0.37254903, 0.4509804 ],\n",
       "         [0.3372549 , 0.34117648, 0.42352942],\n",
       "         [0.32156864, 0.32156864, 0.41568628],\n",
       "         ...,\n",
       "         [0.9411765 , 0.8156863 , 0.7411765 ],\n",
       "         [0.95686275, 0.83137256, 0.75686276],\n",
       "         [0.972549  , 0.84705883, 0.77254903]]],\n",
       "\n",
       "\n",
       "       [[[0.6313726 , 0.6       , 0.57254905],\n",
       "         [0.8       , 0.75686276, 0.7254902 ],\n",
       "         [0.77254903, 0.7294118 , 0.69803923],\n",
       "         ...,\n",
       "         [0.95686275, 0.9098039 , 0.8627451 ],\n",
       "         [0.95686275, 0.9098039 , 0.8627451 ],\n",
       "         [0.9607843 , 0.9137255 , 0.8666667 ]],\n",
       "\n",
       "        [[0.75686276, 0.7137255 , 0.68235296],\n",
       "         [0.87058824, 0.83137256, 0.7921569 ],\n",
       "         [0.7921569 , 0.74509805, 0.7058824 ],\n",
       "         ...,\n",
       "         [0.95686275, 0.9098039 , 0.8627451 ],\n",
       "         [0.9529412 , 0.90588236, 0.85882354],\n",
       "         [0.9607843 , 0.9137255 , 0.8666667 ]],\n",
       "\n",
       "        [[0.7647059 , 0.7254902 , 0.6901961 ],\n",
       "         [0.8862745 , 0.84705883, 0.80784315],\n",
       "         [0.7921569 , 0.7411765 , 0.7019608 ],\n",
       "         ...,\n",
       "         [0.95686275, 0.9098039 , 0.8627451 ],\n",
       "         [0.9529412 , 0.90588236, 0.85882354],\n",
       "         [0.95686275, 0.9098039 , 0.8627451 ]],\n",
       "\n",
       "        ...,\n",
       "\n",
       "        [[0.6392157 , 0.6       , 0.64705884],\n",
       "         [0.6509804 , 0.6156863 , 0.6627451 ],\n",
       "         [0.67058825, 0.6392157 , 0.68235296],\n",
       "         ...,\n",
       "         [0.3529412 , 0.42745098, 0.5529412 ],\n",
       "         [0.34901962, 0.42352942, 0.54901963],\n",
       "         [0.34117648, 0.41568628, 0.5411765 ]],\n",
       "\n",
       "        [[0.6666667 , 0.62352943, 0.654902  ],\n",
       "         [0.63529414, 0.6039216 , 0.6313726 ],\n",
       "         [0.6431373 , 0.6117647 , 0.6392157 ],\n",
       "         ...,\n",
       "         [0.38431373, 0.46666667, 0.5764706 ],\n",
       "         [0.38039216, 0.4627451 , 0.57254905],\n",
       "         [0.3647059 , 0.44705883, 0.5568628 ]],\n",
       "\n",
       "        [[0.67058825, 0.627451  , 0.65882355],\n",
       "         [0.67058825, 0.61960787, 0.6509804 ],\n",
       "         [0.6666667 , 0.6156863 , 0.64705884],\n",
       "         ...,\n",
       "         [0.39607844, 0.4862745 , 0.5882353 ],\n",
       "         [0.39607844, 0.4862745 , 0.5882353 ],\n",
       "         [0.38431373, 0.4745098 , 0.5764706 ]]],\n",
       "\n",
       "\n",
       "       [[[0.23529412, 0.33333334, 0.46666667],\n",
       "         [0.24313726, 0.3372549 , 0.4745098 ],\n",
       "         [0.25882354, 0.3529412 , 0.49411765],\n",
       "         ...,\n",
       "         [0.5176471 , 0.56078434, 0.73333335],\n",
       "         [0.53333336, 0.57254905, 0.75686276],\n",
       "         [0.5411765 , 0.5803922 , 0.7647059 ]],\n",
       "\n",
       "        [[0.23529412, 0.32941177, 0.4745098 ],\n",
       "         [0.23529412, 0.3254902 , 0.4745098 ],\n",
       "         [0.2509804 , 0.3529412 , 0.49411765],\n",
       "         ...,\n",
       "         [0.5058824 , 0.54901963, 0.72156864],\n",
       "         [0.49411765, 0.53333336, 0.7176471 ],\n",
       "         [0.49803922, 0.5372549 , 0.72156864]],\n",
       "\n",
       "        [[0.24313726, 0.3372549 , 0.47843137],\n",
       "         [0.24313726, 0.33333334, 0.48235294],\n",
       "         [0.25490198, 0.35686275, 0.49803922],\n",
       "         ...,\n",
       "         [0.4862745 , 0.52156866, 0.6862745 ],\n",
       "         [0.49803922, 0.53333336, 0.69803923],\n",
       "         [0.49803922, 0.5294118 , 0.69803923]],\n",
       "\n",
       "        ...,\n",
       "\n",
       "        [[0.38431373, 0.39215687, 0.5019608 ],\n",
       "         [0.38431373, 0.39215687, 0.5019608 ],\n",
       "         [0.3764706 , 0.38039216, 0.48235294],\n",
       "         ...,\n",
       "         [0.5921569 , 0.5294118 , 0.5058824 ],\n",
       "         [0.61960787, 0.5411765 , 0.52156866],\n",
       "         [0.73333335, 0.6431373 , 0.6117647 ]],\n",
       "\n",
       "        [[0.37254903, 0.38431373, 0.49411765],\n",
       "         [0.38039216, 0.38431373, 0.49411765],\n",
       "         [0.3647059 , 0.36862746, 0.47058824],\n",
       "         ...,\n",
       "         [0.6156863 , 0.5529412 , 0.5294118 ],\n",
       "         [0.6       , 0.5254902 , 0.5058824 ],\n",
       "         [0.6666667 , 0.58431375, 0.5529412 ]],\n",
       "\n",
       "        [[0.35686275, 0.3647059 , 0.4745098 ],\n",
       "         [0.35686275, 0.36078432, 0.47058824],\n",
       "         [0.36078432, 0.3647059 , 0.46666667],\n",
       "         ...,\n",
       "         [0.69411767, 0.627451  , 0.59607846],\n",
       "         [0.5921569 , 0.5294118 , 0.50980395],\n",
       "         [0.61960787, 0.54901963, 0.52156866]]],\n",
       "\n",
       "\n",
       "       ...,\n",
       "\n",
       "\n",
       "       [[[0.14901961, 0.14509805, 0.29411766],\n",
       "         [0.1764706 , 0.1882353 , 0.30588236],\n",
       "         [0.3529412 , 0.37254903, 0.49411765],\n",
       "         ...,\n",
       "         [0.32156864, 0.35686275, 0.5254902 ],\n",
       "         [0.32941177, 0.36078432, 0.5294118 ],\n",
       "         [0.34117648, 0.36862746, 0.5372549 ]],\n",
       "\n",
       "        [[0.35686275, 0.38431373, 0.49803922],\n",
       "         [0.2509804 , 0.2784314 , 0.3764706 ],\n",
       "         [0.27058825, 0.2901961 , 0.40392157],\n",
       "         ...,\n",
       "         [0.30588236, 0.3529412 , 0.5176471 ],\n",
       "         [0.30588236, 0.3529412 , 0.5176471 ],\n",
       "         [0.32156864, 0.35686275, 0.5254902 ]],\n",
       "\n",
       "        [[0.25882354, 0.27058825, 0.4392157 ],\n",
       "         [0.16078432, 0.1882353 , 0.31764707],\n",
       "         [0.21960784, 0.25490198, 0.35686275],\n",
       "         ...,\n",
       "         [0.3019608 , 0.34901962, 0.5137255 ],\n",
       "         [0.29803923, 0.34509805, 0.5058824 ],\n",
       "         [0.30980393, 0.35686275, 0.52156866]],\n",
       "\n",
       "        ...,\n",
       "\n",
       "        [[0.29803923, 0.29803923, 0.39215687],\n",
       "         [0.2627451 , 0.25490198, 0.34117648],\n",
       "         [0.2509804 , 0.23137255, 0.32156864],\n",
       "         ...,\n",
       "         [0.24313726, 0.2509804 , 0.36078432],\n",
       "         [0.21960784, 0.23529412, 0.34509805],\n",
       "         [0.2       , 0.22352941, 0.32941177]],\n",
       "\n",
       "        [[0.28235295, 0.28235295, 0.3647059 ],\n",
       "         [0.25490198, 0.24705882, 0.3254902 ],\n",
       "         [0.25882354, 0.24313726, 0.31764707],\n",
       "         ...,\n",
       "         [0.73333335, 0.7294118 , 0.8117647 ],\n",
       "         [0.8156863 , 0.8039216 , 0.8901961 ],\n",
       "         [0.78039217, 0.7647059 , 0.85490197]],\n",
       "\n",
       "        [[0.25490198, 0.24705882, 0.33333334],\n",
       "         [0.25882354, 0.23921569, 0.3137255 ],\n",
       "         [0.27450982, 0.24313726, 0.30980393],\n",
       "         ...,\n",
       "         [0.7137255 , 0.7019608 , 0.7647059 ],\n",
       "         [0.7137255 , 0.7019608 , 0.7607843 ],\n",
       "         [0.5764706 , 0.5568628 , 0.6156863 ]]],\n",
       "\n",
       "\n",
       "       [[[0.25490198, 0.19215687, 0.44313726],\n",
       "         [0.24313726, 0.18039216, 0.3882353 ],\n",
       "         [0.24705882, 0.21960784, 0.3019608 ],\n",
       "         ...,\n",
       "         [0.5372549 , 0.5529412 , 0.62352943],\n",
       "         [0.52156866, 0.5372549 , 0.61960787],\n",
       "         [0.4862745 , 0.5176471 , 0.62352943]],\n",
       "\n",
       "        [[0.24313726, 0.17254902, 0.47058824],\n",
       "         [0.23137255, 0.16862746, 0.40392157],\n",
       "         [0.23921569, 0.21960784, 0.3137255 ],\n",
       "         ...,\n",
       "         [0.5372549 , 0.5529412 , 0.627451  ],\n",
       "         [0.53333336, 0.54509807, 0.627451  ],\n",
       "         [0.4862745 , 0.5058824 , 0.62352943]],\n",
       "\n",
       "        [[0.26666668, 0.19215687, 0.47058824],\n",
       "         [0.2627451 , 0.20784314, 0.42352942],\n",
       "         [0.24313726, 0.23529412, 0.3137255 ],\n",
       "         ...,\n",
       "         [0.5254902 , 0.54901963, 0.62352943],\n",
       "         [0.5176471 , 0.53333336, 0.627451  ],\n",
       "         [0.47058824, 0.4862745 , 0.6       ]],\n",
       "\n",
       "        ...,\n",
       "\n",
       "        [[0.16470589, 0.19215687, 0.2509804 ],\n",
       "         [0.15686275, 0.18431373, 0.24705882],\n",
       "         [0.15686275, 0.19215687, 0.2509804 ],\n",
       "         ...,\n",
       "         [0.41960785, 0.43529412, 0.54509807],\n",
       "         [0.52156866, 0.54901963, 0.6117647 ],\n",
       "         [0.5411765 , 0.56078434, 0.62352943]],\n",
       "\n",
       "        [[0.16862746, 0.19215687, 0.23529412],\n",
       "         [0.14509805, 0.18039216, 0.21960784],\n",
       "         [0.10196079, 0.13725491, 0.1764706 ],\n",
       "         ...,\n",
       "         [0.53333336, 0.5529412 , 0.6509804 ],\n",
       "         [0.5176471 , 0.5411765 , 0.6156863 ],\n",
       "         [0.5294118 , 0.54901963, 0.6156863 ]],\n",
       "\n",
       "        [[0.16862746, 0.1764706 , 0.21960784],\n",
       "         [0.10196079, 0.1254902 , 0.16862746],\n",
       "         [0.09411765, 0.11764706, 0.16078432],\n",
       "         ...,\n",
       "         [0.49803922, 0.5137255 , 0.6039216 ],\n",
       "         [0.5294118 , 0.54509807, 0.6156863 ],\n",
       "         [0.5372549 , 0.5568628 , 0.6156863 ]]],\n",
       "\n",
       "\n",
       "       [[[0.30980393, 0.30588236, 0.38431373],\n",
       "         [0.30980393, 0.3019608 , 0.38039216],\n",
       "         [0.32156864, 0.3019608 , 0.38431373],\n",
       "         ...,\n",
       "         [0.6392157 , 0.64705884, 0.6509804 ],\n",
       "         [0.654902  , 0.67058825, 0.6627451 ],\n",
       "         [0.972549  , 1.        , 0.9647059 ]],\n",
       "\n",
       "        [[0.24313726, 0.23921569, 0.30588236],\n",
       "         [0.25882354, 0.24313726, 0.31764707],\n",
       "         [0.27058825, 0.24705882, 0.31764707],\n",
       "         ...,\n",
       "         [0.6509804 , 0.65882355, 0.6627451 ],\n",
       "         [0.6862745 , 0.7058824 , 0.69803923],\n",
       "         [0.972549  , 1.        , 0.9607843 ]],\n",
       "\n",
       "        [[0.23529412, 0.22352941, 0.27058825],\n",
       "         [0.24705882, 0.21176471, 0.2627451 ],\n",
       "         [0.25490198, 0.21568628, 0.26666668],\n",
       "         ...,\n",
       "         [0.654902  , 0.6627451 , 0.6666667 ],\n",
       "         [0.7019608 , 0.7176471 , 0.69803923],\n",
       "         [0.9764706 , 0.99607843, 0.9607843 ]],\n",
       "\n",
       "        ...,\n",
       "\n",
       "        [[0.2901961 , 0.26666668, 0.5411765 ],\n",
       "         [0.25490198, 0.23137255, 0.5372549 ],\n",
       "         [0.24313726, 0.22352941, 0.53333336],\n",
       "         ...,\n",
       "         [0.47058824, 0.5254902 , 0.7137255 ],\n",
       "         [0.46666667, 0.52156866, 0.70980394],\n",
       "         [0.47058824, 0.5176471 , 0.7058824 ]],\n",
       "\n",
       "        [[0.09803922, 0.10196079, 0.27450982],\n",
       "         [0.26666668, 0.27450982, 0.4862745 ],\n",
       "         [0.29411766, 0.29803923, 0.5254902 ],\n",
       "         ...,\n",
       "         [0.45490196, 0.50980395, 0.69803923],\n",
       "         [0.4509804 , 0.5058824 , 0.69411767],\n",
       "         [0.4509804 , 0.49803922, 0.6862745 ]],\n",
       "\n",
       "        [[0.3764706 , 0.40392157, 0.5294118 ],\n",
       "         [0.36078432, 0.38431373, 0.54509807],\n",
       "         [0.04705882, 0.05882353, 0.22745098],\n",
       "         ...,\n",
       "         [0.4392157 , 0.49411765, 0.68235296],\n",
       "         [0.43529412, 0.49019608, 0.6784314 ],\n",
       "         [0.43529412, 0.48235294, 0.67058825]]]], dtype=float32)"
      ]
     },
     "execution_count": 7,
     "metadata": {},
     "output_type": "execute_result"
    }
   ],
   "source": [
    "images = np.array(images).astype('float32')\n",
    "images_norm = images / 255.\n",
    "images_norm = images_norm.reshape(-1, IMG_SIZE, IMG_SIZE, COLOR_CHANNELS)\n",
    "images_norm"
   ]
  },
  {
   "cell_type": "code",
   "execution_count": 8,
   "metadata": {},
   "outputs": [],
   "source": [
    "import keras\n",
    "model = keras.models.load_model(\"gesture_recognition\")"
   ]
  },
  {
   "cell_type": "code",
   "execution_count": 9,
   "metadata": {},
   "outputs": [
    {
     "name": "stdout",
     "output_type": "stream",
     "text": [
      "1/1 [==============================] - 0s 98ms/step\n",
      "probabilities [0 0 0 2 2 2 3 0 0 0 4 4 5 4 5]\n"
     ]
    }
   ],
   "source": [
    "y_predictions = model.predict(images_norm)\n",
    "\n",
    "# we get a 2D numpy array with probabilities for each category\n",
    "y_predictions = np.argmax(y_predictions, axis=1)\n",
    "\n",
    "print('probabilities', y_predictions)"
   ]
  },
  {
   "cell_type": "code",
   "execution_count": 10,
   "metadata": {},
   "outputs": [
    {
     "name": "stdout",
     "output_type": "stream",
     "text": [
      "1/1 [==============================] - 0s 25ms/step\n",
      "before [[9.9999928e-01 6.6948598e-07 8.3960006e-11 3.4203878e-09 1.1224688e-09\n",
      "  1.6409468e-14]\n",
      " [9.8041463e-01 2.7659626e-03 7.3675542e-06 1.6768062e-02 3.0569718e-05\n",
      "  1.3330121e-05]\n",
      " [9.1366702e-01 5.0122600e-02 9.5294305e-04 3.4886289e-02 3.5952224e-04\n",
      "  1.1655298e-05]\n",
      " [5.2823039e-09 9.1575459e-04 9.9908412e-01 3.2589278e-10 7.0015645e-08\n",
      "  2.1849766e-09]\n",
      " [9.5898027e-09 9.0672169e-05 9.9990928e-01 1.3891116e-10 3.1056267e-08\n",
      "  9.3410966e-11]\n",
      " [5.9964663e-08 8.3851386e-03 9.9161482e-01 1.9672556e-12 3.9301695e-09\n",
      "  3.3044362e-10]\n",
      " [4.3864318e-05 1.9141815e-04 4.9051829e-09 9.9976462e-01 3.7601254e-08\n",
      "  4.2706574e-08]\n",
      " [3.8024029e-01 1.3818105e-01 1.5861699e-01 3.1536400e-01 7.4954252e-03\n",
      "  1.0222835e-04]\n",
      " [7.3132527e-01 5.8600068e-02 1.0944465e-02 1.6170481e-01 3.3426583e-02\n",
      "  3.9987112e-03]\n",
      " [9.8955780e-01 2.0568909e-03 6.6516208e-07 8.8756184e-05 8.2958704e-03\n",
      "  9.9146007e-09]\n",
      " [1.6090649e-05 1.7850540e-04 5.4098368e-08 5.3148109e-05 9.9975032e-01\n",
      "  1.8572159e-06]\n",
      " [3.7379166e-08 1.4534609e-06 6.1474502e-08 1.2846853e-07 9.9999762e-01\n",
      "  6.6604599e-07]\n",
      " [4.4980581e-05 6.5911310e-03 3.7951242e-05 2.3076852e-04 7.0056277e-03\n",
      "  9.8608959e-01]\n",
      " [3.4043927e-02 3.1583700e-02 7.1975985e-03 1.8594570e-01 6.0707217e-01\n",
      "  1.3415687e-01]\n",
      " [4.8687456e-05 1.7149668e-02 3.0175928e-04 1.3643136e-04 2.8080445e-02\n",
      "  9.5428294e-01]]\n",
      "probabilities [0 0 0 2 2 2 3 0 0 0 4 4 5 4 5]\n"
     ]
    },
    {
     "data": {
      "image/png": "[encoded data removed]",
      "text/plain": [
       "<Figure size 1000x1000 with 2 Axes>"
      ]
     },
     "metadata": {},
     "output_type": "display_data"
    }
   ],
   "source": [
    "# let the model make predictions for our training data\n",
    "y_predictions = model.predict(images_norm)\n",
    "\n",
    "# we get a 2D numpy array with probabilities for each category\n",
    "print('before', y_predictions)\n",
    "\n",
    "# to build a confusion matrix, we have to convert it to classifications\n",
    "# this can be done by using the argmax() function to set the probability to 1 and the rest to 0\n",
    "y_predictions = np.argmax(y_predictions, axis=1)\n",
    "\n",
    "print('probabilities', y_predictions)\n",
    "\n",
    "# create and plot confusion matrix\n",
    "conf_matrix = confusion_matrix(labels, y_predictions)\n",
    "\n",
    "fig = plt.figure(figsize=(10, 10))\n",
    "\n",
    "ConfusionMatrixDisplay(conf_matrix, display_labels=label_names).plot(ax=plt.gca())\n",
    "\n",
    "plt.xticks(rotation=90, ha='center')\n",
    "plt.savefig('conf-matrix.png')\n",
    "pass"
   ]
  },
  {
   "attachments": {},
   "cell_type": "markdown",
   "metadata": {},
   "source": [
    "# Model\n",
    "\n",
    "Model somehow performs really poorly. I tried RandomRotation, since some of my hand gestures in my own annotations are slightly rotated, but it resulted in the same or was even worse."
   ]
  }
 ],
 "metadata": {
  "kernelspec": {
   "display_name": "Python 3",
   "language": "python",
   "name": "python3"
  },
  "language_info": {
   "codemirror_mode": {
    "name": "ipython",
    "version": 3
   },
   "file_extension": ".py",
   "mimetype": "text/x-python",
   "name": "python",
   "nbconvert_exporter": "python",
   "pygments_lexer": "ipython3",
   "version": "3.11.3"
  },
  "orig_nbformat": 4
 },
 "nbformat": 4,
 "nbformat_minor": 2
}
